{
 "cells": [
  {
   "cell_type": "code",
   "execution_count": 1,
   "id": "b0f5c011-5f6c-433e-9070-70ed35c57855",
   "metadata": {},
   "outputs": [],
   "source": [
    "%load_ext autoreload\n",
    "%autoreload 2\n",
    "import sys\n",
    "sys.path.append('..')"
   ]
  },
  {
   "cell_type": "code",
   "execution_count": 2,
   "id": "initial_id",
   "metadata": {},
   "outputs": [],
   "source": [
    "from tyrannotext.extractor import TyrannoExtractor\n",
    "from IPython.display import HTML\n",
    "\n",
    "t_extr = TyrannoExtractor()\n",
    "\n",
    "def show_extraction(pdf_path):\n",
    "    img_path = pdf_path.split('.')[0] + '.jpg'\n",
    "    return HTML(f\"\"\"\n",
    "        <div class=\"row\" style=\"width:100%; display: flex\">\n",
    "                <div style=\"flex:49%\"> <img src=\"{img_path}\" style=\"width:100%\"> </img> </div>\n",
    "                <div style=\"flex:49%\"> <pre style=\"flex:49%\"> {t_extr.extract_text_from_pdf(pdf_path, page_idxs=[0])} </pre> </div>\n",
    "        </div>\n",
    "        \"\"\")"
   ]
  },
  {
   "cell_type": "code",
   "execution_count": 3,
   "id": "4fbb6a80-e752-4bc9-a64c-817daab668d3",
   "metadata": {},
   "outputs": [
    {
     "data": {
      "text/html": [
       "\n",
       "        <div class=\"row\" style=\"width:100%; display: flex\">\n",
       "                <div style=\"flex:49%\"> <img src=\"pdf/article.jpg\" style=\"width:100%\"> </img> </div>\n",
       "                <div style=\"flex:49%\"> <pre style=\"flex:49%\"> USENIX Example Paper\n",
       "Pekka Nikander Aalto University\n",
       "Jane-Ellen Long USENIX Association\n",
       "Abstract\n",
       "This is an example for a USENIX paper, in the form of an HTML/CSS template. Being heavily self-referential, this template illustrates the features included in this template. It is expected that the prospective authors using HTML/CSS would create a new document based on this template, remove the content, and start writing their paper. Note that in this template, you may have a multi-paragraph abstract. However, that it is not necessarily a good practice. Try to keep your abstract in one paragraph, and remember that the optimal length for an abstract is 200-300 words.\n",
       "1 Introduction\n",
       "For the purposes of USENIX conference publications, the authors, not the USENIX staff, are solely responsible for the content and formatting of their paper. The purpose of this template is to help those authors that want to use HTML/CSS to write their papers. This template has been prepared by Håkon Wium Lie, and is based on a guide to using FrameMaker for USENIX papers, written by Pekka Nikander with the help of Jane-Ellen Long. The rest of this paper is organized as follows. Section 2 gives a brief overview of related work, such as other templates and style manuals. Section 3 discusses the details of this template, and Section 4 contains our conclusions.\n",
       "2 Related Work\n",
       "Preparing good-looking publications is not easy. It requires understanding of style and typography. The purpose of the templates provided by the USENIX organization is to lift the burden of caring about typography from the authors. However, the authors still remain, and will always remain, responsible for the style.\n",
       "2.1 Word and LaTeX templates\n",
       "The USENIX website includes a template for Microsoft Word, as well as LaTeX templates. Many of the settings in the CSS style sheet of this template have been copied from the LaTeX templates.\n",
       "Figure 1: This figure is showed for illustrational purposes only; floppy disks are not required to use this template.\n",
       "2.2 Style manuals\n",
       "Besides typography, style is the second element of preparing easy-to-read publications. There are tens of good style manuals available. To mention just a couple, The Elements of Style by Strunk and White [1] is a classic, and has remained a bestseller since its introduction in 1930’s. From the more contemporary ones, Writing for Computer Science by Justin Zobel [2] seems appropriate.\n",
       "3 Implementation\n",
       "In this section we cover the features included in this template. Our goal has been that the authors do not need to make modifications to the template; instead, they should be able to concentrate on the content and style. With this in mind, this template includes a number of features. On the other hand, we have also tried to keep this document simple and easy to maintain. This template is written in HTML, with CSS to provide styling, and a small JavaScript to help format references.\n",
       "\n",
       " </pre> </div>\n",
       "        </div>\n",
       "        "
      ],
      "text/plain": [
       "<IPython.core.display.HTML object>"
      ]
     },
     "execution_count": 3,
     "metadata": {},
     "output_type": "execute_result"
    }
   ],
   "source": [
    "show_extraction('pdf/article.pdf')"
   ]
  },
  {
   "cell_type": "code",
   "execution_count": 4,
   "id": "4d6d40d9-a9ba-4003-94d7-5b6d957a4c1d",
   "metadata": {},
   "outputs": [
    {
     "data": {
      "text/html": [
       "\n",
       "        <div class=\"row\" style=\"width:100%; display: flex\">\n",
       "                <div style=\"flex:49%\"> <img src=\"pdf/book.jpg\" style=\"width:100%\"> </img> </div>\n",
       "                <div style=\"flex:49%\"> <pre style=\"flex:49%\"> Anatomy of the Somatosensory System\n",
       "F\n",
       "Our somatosensory system consists of sensors in the skin and sensors in our muscles, tendons, and joints. The receptors in the skin, the so called cutaneous receptors, tell us about temperature ( thermoreceptors ), pressure and surface texture ( mechano receptors ), and pain ( nociceptors ). The receptors in muscles and joints provide information about muscle length, muscle tension, and joint angles.\n",
       "Cutaneous receptors\n",
       "Sensory information from Meissner corpuscles and rapidly adapting afferents leads to adjustment of grip force when objects are lifted. These afferents respond with a brief burst of action potentials when objects move a small distance during the early stages of lifting. In response to\n",
       "Sebaceous\n",
       "1\n",
       "1\n",
       "W\n",
       "ROM IKIBOOKS\n",
       "The following description is based on lecture notes from Laszlo Zaborszky, from Rutgers University.\n",
       "This is a sample document to showcase page-based formatting. It contains a chapter from a Wikibook called Sensory Systems. None of the content has been changed in this article, but some content has been removed.\n",
       "Figure 1: man skin: Mechanoreceptors can be free receptors or encapsulated. Examples for free receptors are the hair receptors at the roots of hairs. Encapsulated receptors are the Pacinian corpuscles and the receptors in the glabrous (hairless) skin: Meissner corpuscles, Ruffini corpuscles and Merkel’s disks.\n",
       "Receptors in the hu-\n",
       "Glabrous skin\n",
       "Hairy skin\n",
       "Papillary Ridges\n",
       "Epidermis\n",
       "Dermis\n",
       "Septa\n",
       "Free nerve\n",
       "Merkel’s receptor\n",
       "ending\n",
       "Meissne r’s corpuscle\n",
       "gland\n",
       "Ruffini’s corpuscle\n",
       "Hair receptor\n",
       "Pacinian corpuscle\n",
       "1\n",
       "\n",
       " </pre> </div>\n",
       "        </div>\n",
       "        "
      ],
      "text/plain": [
       "<IPython.core.display.HTML object>"
      ]
     },
     "execution_count": 4,
     "metadata": {},
     "output_type": "execute_result"
    }
   ],
   "source": [
    "show_extraction('pdf/book.pdf')"
   ]
  },
  {
   "cell_type": "code",
   "execution_count": 5,
   "id": "590e06c6-a725-4f71-972b-770f477abe08",
   "metadata": {},
   "outputs": [
    {
     "data": {
      "text/html": [
       "\n",
       "        <div class=\"row\" style=\"width:100%; display: flex\">\n",
       "                <div style=\"flex:49%\"> <img src=\"pdf/newspaper.jpg\" style=\"width:100%\"> </img> </div>\n",
       "                <div style=\"flex:49%\"> <pre style=\"flex:49%\"> Drylab News\n",
       "for investors & friends · May 2017\n",
       "Welcome to our first newsletter of 2017! It's been a while since the last one, and a lot has happened. We promise to keep them coming every two months hereafter, and permit ourselves to make this one rather long. The big news is the beginnings of our launch in the American market, but there are also interesting updates on sales, development, mentors and (of course) the investment round that closed in January. New capital: The investment round was successful. We raised 2.13 MNOK to match\n",
       "the 2.05 MNOK loan from Innovation Norway. Including the development agreement with Filmlance International, the total new capital is 5 MNOK, partly tied to the successful completion of milestones. All formalities associated with this process are now finalized. New owners: We would especially like to warmly welcome our new owners to the Drylab family: Unni Jacobsen, Torstein Jahr, Suzanne Bolstad, Eivind Bergene, Turid Brun, Vigdis Trondsen, Lea Blindheim, Kristine\n",
       "34\n",
       "Academy of Motion Picture Arts and Sciences · Alesha & Jamie Metzger · Amazon AWS · Apple · Caitlin Burns, PGA · Carlos Melcer · Chimney L.A. · Dado Valentic · Dave Stump · DIT WIT · ERA NYC · Facebook · Fancy Film · FilmLight · Geo Labelle · Google · IBM · Innovation Norway (NYC) · Innovation Norway (SF) · International Cinematographers Guild · NBC · Local 871 · Netflix · Pomfort · Radiant Images · Screening Room · Signiant · Moods of Norway · Tapad · Team Downey\n",
       "meetings meetings NY · SF NY · SF LA · L LA · LV V\n",
       "\n",
       " </pre> </div>\n",
       "        </div>\n",
       "        "
      ],
      "text/plain": [
       "<IPython.core.display.HTML object>"
      ]
     },
     "execution_count": 5,
     "metadata": {},
     "output_type": "execute_result"
    }
   ],
   "source": [
    "show_extraction('pdf/newspaper.pdf')"
   ]
  },
  {
   "cell_type": "code",
   "execution_count": null,
   "id": "747057c8-ce23-47ad-ab80-7d738aa8b1f1",
   "metadata": {},
   "outputs": [],
   "source": []
  }
 ],
 "metadata": {
  "kernelspec": {
   "display_name": "Python 3 (ipykernel)",
   "language": "python",
   "name": "python3"
  },
  "language_info": {
   "codemirror_mode": {
    "name": "ipython",
    "version": 3
   },
   "file_extension": ".py",
   "mimetype": "text/x-python",
   "name": "python",
   "nbconvert_exporter": "python",
   "pygments_lexer": "ipython3",
   "version": "3.10.14"
  }
 },
 "nbformat": 4,
 "nbformat_minor": 5
}
